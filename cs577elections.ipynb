{
 "cells": [
  {
   "cell_type": "markdown",
   "id": "f3218b05",
   "metadata": {},
   "source": [
    "# Pandas Demo: Election Data"
   ]
  },
  {
   "cell_type": "code",
   "execution_count": 46,
   "id": "fa8ca3b9",
   "metadata": {},
   "outputs": [
    {
     "name": "stderr",
     "output_type": "stream",
     "text": [
      "Matplotlib is building the font cache; this may take a moment.\n"
     ]
    }
   ],
   "source": [
    "import pandas as pd\n",
    "import matplotlib.pyplot as plt\n",
    "from pathlib import Path"
   ]
  },
  {
   "cell_type": "markdown",
   "id": "3dab7985",
   "metadata": {},
   "source": []
  },
  {
   "cell_type": "markdown",
   "id": "1250b1d9",
   "metadata": {},
   "source": [
    "## 1. Read Data from File"
   ]
  },
  {
   "cell_type": "code",
   "execution_count": 47,
   "id": "0f657430",
   "metadata": {},
   "outputs": [
    {
     "name": "stdout",
     "output_type": "stream",
     "text": [
      "/Users/ben/Documents/How_To_Videos/How_To_Python/src\n"
     ]
    }
   ],
   "source": [
    "cwd = Path.cwd()\n",
    "print(cwd)\n"
   ]
  },
  {
   "cell_type": "markdown",
   "id": "a4f48493",
   "metadata": {},
   "source": [
    "How you construct file paths will depend on how you organize your project. Here I have a src folder containing this notebook, and a data folder parallel to the src folder. So my working directory ends in '/project_folder/src/pandas_election.ipynb' and I want to reference '/project_folder/data/elections.csv'"
   ]
  },
  {
   "cell_type": "code",
   "execution_count": 48,
   "id": "6c407845",
   "metadata": {},
   "outputs": [
    {
     "name": "stdout",
     "output_type": "stream",
     "text": [
      "Found the data file\n"
     ]
    }
   ],
   "source": [
    "datafile = Path('elections.csv') #name of data file\n",
    "datadir = Path('data') #name of directory (folder) containing the data\n",
    "file = cwd.parent / datadir / datafile\n",
    "\n",
    "if file.exists():\n",
    "    print(\"Found the data file\")\n",
    "else:\n",
    "    raise Exception(\"Could not find that file in that directory: \", file)"
   ]
  },
  {
   "cell_type": "code",
   "execution_count": 49,
   "id": "a813e669",
   "metadata": {},
   "outputs": [],
   "source": [
    "elections_df = pd.read_csv(file) #we don't need to specify a delimiter, because read_csv uses comma as a delimiter by default"
   ]
  },
  {
   "cell_type": "markdown",
   "id": "8b4aaa0a",
   "metadata": {},
   "source": [
    "### 1.1) Inspect the dataframe to make sure it looks like it was read from file correctly"
   ]
  },
  {
   "cell_type": "code",
   "execution_count": 50,
   "id": "3671acad",
   "metadata": {},
   "outputs": [
    {
     "data": {
      "text/html": [
       "<div>\n",
       "<style scoped>\n",
       "    .dataframe tbody tr th:only-of-type {\n",
       "        vertical-align: middle;\n",
       "    }\n",
       "\n",
       "    .dataframe tbody tr th {\n",
       "        vertical-align: top;\n",
       "    }\n",
       "\n",
       "    .dataframe thead th {\n",
       "        text-align: right;\n",
       "    }\n",
       "</style>\n",
       "<table border=\"1\" class=\"dataframe\">\n",
       "  <thead>\n",
       "    <tr style=\"text-align: right;\">\n",
       "      <th></th>\n",
       "      <th>Year</th>\n",
       "      <th>Candidate</th>\n",
       "      <th>Party</th>\n",
       "      <th>Popular vote</th>\n",
       "      <th>Result</th>\n",
       "      <th>%</th>\n",
       "    </tr>\n",
       "  </thead>\n",
       "  <tbody>\n",
       "    <tr>\n",
       "      <th>0</th>\n",
       "      <td>1824</td>\n",
       "      <td>Andrew Jackson</td>\n",
       "      <td>Democratic-Republican</td>\n",
       "      <td>151271</td>\n",
       "      <td>loss</td>\n",
       "      <td>57.210122</td>\n",
       "    </tr>\n",
       "    <tr>\n",
       "      <th>1</th>\n",
       "      <td>1824</td>\n",
       "      <td>John Quincy Adams</td>\n",
       "      <td>Democratic-Republican</td>\n",
       "      <td>113142</td>\n",
       "      <td>win</td>\n",
       "      <td>42.789878</td>\n",
       "    </tr>\n",
       "    <tr>\n",
       "      <th>2</th>\n",
       "      <td>1828</td>\n",
       "      <td>Andrew Jackson</td>\n",
       "      <td>Democratic</td>\n",
       "      <td>642806</td>\n",
       "      <td>win</td>\n",
       "      <td>56.203927</td>\n",
       "    </tr>\n",
       "    <tr>\n",
       "      <th>3</th>\n",
       "      <td>1828</td>\n",
       "      <td>John Quincy Adams</td>\n",
       "      <td>National Republican</td>\n",
       "      <td>500897</td>\n",
       "      <td>loss</td>\n",
       "      <td>43.796073</td>\n",
       "    </tr>\n",
       "    <tr>\n",
       "      <th>4</th>\n",
       "      <td>1832</td>\n",
       "      <td>Andrew Jackson</td>\n",
       "      <td>Democratic</td>\n",
       "      <td>702735</td>\n",
       "      <td>win</td>\n",
       "      <td>54.574789</td>\n",
       "    </tr>\n",
       "  </tbody>\n",
       "</table>\n",
       "</div>"
      ],
      "text/plain": [
       "   Year          Candidate                  Party  Popular vote Result  \\\n",
       "0  1824     Andrew Jackson  Democratic-Republican        151271   loss   \n",
       "1  1824  John Quincy Adams  Democratic-Republican        113142    win   \n",
       "2  1828     Andrew Jackson             Democratic        642806    win   \n",
       "3  1828  John Quincy Adams    National Republican        500897   loss   \n",
       "4  1832     Andrew Jackson             Democratic        702735    win   \n",
       "\n",
       "           %  \n",
       "0  57.210122  \n",
       "1  42.789878  \n",
       "2  56.203927  \n",
       "3  43.796073  \n",
       "4  54.574789  "
      ]
     },
     "execution_count": 50,
     "metadata": {},
     "output_type": "execute_result"
    }
   ],
   "source": [
    "elections_df.head()"
   ]
  },
  {
   "cell_type": "code",
   "execution_count": 51,
   "id": "26a47296",
   "metadata": {},
   "outputs": [
    {
     "data": {
      "text/plain": [
       "(187, 6)"
      ]
     },
     "execution_count": 51,
     "metadata": {},
     "output_type": "execute_result"
    }
   ],
   "source": [
    "elections_df.shape"
   ]
  },
  {
   "cell_type": "code",
   "execution_count": 52,
   "id": "06522723",
   "metadata": {},
   "outputs": [
    {
     "data": {
      "text/plain": [
       "Index(['Year', 'Candidate', 'Party', 'Popular vote', 'Result', '%'], dtype='object')"
      ]
     },
     "execution_count": 52,
     "metadata": {},
     "output_type": "execute_result"
    }
   ],
   "source": [
    "elections_df.columns"
   ]
  },
  {
   "cell_type": "markdown",
   "id": "877ae0df",
   "metadata": {},
   "source": [
    "# 2. Address missing data (if any)"
   ]
  },
  {
   "cell_type": "markdown",
   "id": "237391e5",
   "metadata": {},
   "source": [
    "### Check for missing data"
   ]
  },
  {
   "cell_type": "code",
   "execution_count": 53,
   "id": "9c683ec1",
   "metadata": {},
   "outputs": [
    {
     "data": {
      "text/html": [
       "<div>\n",
       "<style scoped>\n",
       "    .dataframe tbody tr th:only-of-type {\n",
       "        vertical-align: middle;\n",
       "    }\n",
       "\n",
       "    .dataframe tbody tr th {\n",
       "        vertical-align: top;\n",
       "    }\n",
       "\n",
       "    .dataframe thead th {\n",
       "        text-align: right;\n",
       "    }\n",
       "</style>\n",
       "<table border=\"1\" class=\"dataframe\">\n",
       "  <thead>\n",
       "    <tr style=\"text-align: right;\">\n",
       "      <th></th>\n",
       "      <th>Year</th>\n",
       "      <th>Candidate</th>\n",
       "      <th>Party</th>\n",
       "      <th>Popular vote</th>\n",
       "      <th>Result</th>\n",
       "      <th>%</th>\n",
       "    </tr>\n",
       "  </thead>\n",
       "  <tbody>\n",
       "  </tbody>\n",
       "</table>\n",
       "</div>"
      ],
      "text/plain": [
       "Empty DataFrame\n",
       "Columns: [Year, Candidate, Party, Popular vote, Result, %]\n",
       "Index: []"
      ]
     },
     "execution_count": 53,
     "metadata": {},
     "output_type": "execute_result"
    }
   ],
   "source": [
    "elections_df[elections_df.isna().any(axis=1)] # None of the rows contain any missing values\n"
   ]
  },
  {
   "cell_type": "markdown",
   "id": "7f95629d",
   "metadata": {},
   "source": [
    "Observation: Our elections dataset does not have any null values (NaN or None).\n",
    "\n",
    "Note: This does not mean that our dataset is not missing any data! It is possible that entire rows are missing from the dataset."
   ]
  },
  {
   "cell_type": "code",
   "execution_count": null,
   "id": "a1379d74",
   "metadata": {},
   "outputs": [],
   "source": []
  },
  {
   "cell_type": "markdown",
   "id": "48665f2e",
   "metadata": {},
   "source": [
    "# 3. Understand the Data"
   ]
  },
  {
   "cell_type": "markdown",
   "id": "eea0e9ae",
   "metadata": {},
   "source": [
    "### What does each row represent?\n",
    "\n",
    "Each row in our data set corresponds to a candidate in a presidential election in a given year.\n",
    "\n",
    "Note: Even though the first column is 'Year', each observation is specific to a candidate."
   ]
  },
  {
   "cell_type": "markdown",
   "id": "931b3c80",
   "metadata": {},
   "source": []
  },
  {
   "cell_type": "code",
   "execution_count": 54,
   "id": "361bd737",
   "metadata": {},
   "outputs": [
    {
     "data": {
      "text/html": [
       "<div>\n",
       "<style scoped>\n",
       "    .dataframe tbody tr th:only-of-type {\n",
       "        vertical-align: middle;\n",
       "    }\n",
       "\n",
       "    .dataframe tbody tr th {\n",
       "        vertical-align: top;\n",
       "    }\n",
       "\n",
       "    .dataframe thead th {\n",
       "        text-align: right;\n",
       "    }\n",
       "</style>\n",
       "<table border=\"1\" class=\"dataframe\">\n",
       "  <thead>\n",
       "    <tr style=\"text-align: right;\">\n",
       "      <th></th>\n",
       "      <th>Year</th>\n",
       "      <th>Popular vote</th>\n",
       "      <th>%</th>\n",
       "    </tr>\n",
       "  </thead>\n",
       "  <tbody>\n",
       "    <tr>\n",
       "      <th>count</th>\n",
       "      <td>187.000000</td>\n",
       "      <td>1.870000e+02</td>\n",
       "      <td>187.000000</td>\n",
       "    </tr>\n",
       "    <tr>\n",
       "      <th>mean</th>\n",
       "      <td>1936.491979</td>\n",
       "      <td>1.285001e+07</td>\n",
       "      <td>27.268504</td>\n",
       "    </tr>\n",
       "    <tr>\n",
       "      <th>std</th>\n",
       "      <td>58.125686</td>\n",
       "      <td>1.999673e+07</td>\n",
       "      <td>23.023379</td>\n",
       "    </tr>\n",
       "    <tr>\n",
       "      <th>min</th>\n",
       "      <td>1824.000000</td>\n",
       "      <td>1.007150e+05</td>\n",
       "      <td>0.098088</td>\n",
       "    </tr>\n",
       "    <tr>\n",
       "      <th>25%</th>\n",
       "      <td>1892.000000</td>\n",
       "      <td>4.000375e+05</td>\n",
       "      <td>1.125839</td>\n",
       "    </tr>\n",
       "    <tr>\n",
       "      <th>50%</th>\n",
       "      <td>1936.000000</td>\n",
       "      <td>1.605943e+06</td>\n",
       "      <td>37.670670</td>\n",
       "    </tr>\n",
       "    <tr>\n",
       "      <th>75%</th>\n",
       "      <td>1992.000000</td>\n",
       "      <td>2.058547e+07</td>\n",
       "      <td>48.353003</td>\n",
       "    </tr>\n",
       "    <tr>\n",
       "      <th>max</th>\n",
       "      <td>2024.000000</td>\n",
       "      <td>8.126892e+07</td>\n",
       "      <td>61.344703</td>\n",
       "    </tr>\n",
       "  </tbody>\n",
       "</table>\n",
       "</div>"
      ],
      "text/plain": [
       "              Year  Popular vote           %\n",
       "count   187.000000  1.870000e+02  187.000000\n",
       "mean   1936.491979  1.285001e+07   27.268504\n",
       "std      58.125686  1.999673e+07   23.023379\n",
       "min    1824.000000  1.007150e+05    0.098088\n",
       "25%    1892.000000  4.000375e+05    1.125839\n",
       "50%    1936.000000  1.605943e+06   37.670670\n",
       "75%    1992.000000  2.058547e+07   48.353003\n",
       "max    2024.000000  8.126892e+07   61.344703"
      ]
     },
     "execution_count": 54,
     "metadata": {},
     "output_type": "execute_result"
    }
   ],
   "source": [
    "elections_df.describe() #Get some statistics about the numeric columns"
   ]
  },
  {
   "cell_type": "markdown",
   "id": "ae1a6ba4",
   "metadata": {},
   "source": [
    "### What were all the political parties?"
   ]
  },
  {
   "cell_type": "code",
   "execution_count": 55,
   "id": "d06df81a",
   "metadata": {},
   "outputs": [
    {
     "data": {
      "text/plain": [
       "array(['Democratic-Republican', 'Democratic', 'National Republican',\n",
       "       'Anti-Masonic', 'Whig', 'Free Soil', 'Republican', 'American',\n",
       "       'Constitutional Union', 'Southern Democratic',\n",
       "       'Northern Democratic', 'National Union', 'Liberal Republican',\n",
       "       'Greenback', 'Anti-Monopoly', 'Prohibition', 'Union Labor',\n",
       "       'Populist', 'National Democratic', 'Socialist', 'Progressive',\n",
       "       'Farmer–Labor', 'Communist', 'Union', 'Dixiecrat',\n",
       "       \"States' Rights\", 'American Independent', 'Independent',\n",
       "       'Libertarian', 'Citizens', 'New Alliance', 'Taxpayers',\n",
       "       'Natural Law', 'Green', 'Reform', 'Constitution',\n",
       "       'Libertarian Party'], dtype=object)"
      ]
     },
     "execution_count": 55,
     "metadata": {},
     "output_type": "execute_result"
    }
   ],
   "source": [
    "elections_df['Party'].unique()"
   ]
  },
  {
   "cell_type": "markdown",
   "id": "07e6f28d",
   "metadata": {},
   "source": [
    "### Which party ran a candidate in the most elections?"
   ]
  },
  {
   "cell_type": "code",
   "execution_count": 56,
   "id": "b3a36c51",
   "metadata": {},
   "outputs": [
    {
     "data": {
      "text/plain": [
       "0    Democratic\n",
       "Name: Party, dtype: object"
      ]
     },
     "execution_count": 56,
     "metadata": {},
     "output_type": "execute_result"
    }
   ],
   "source": [
    "elections_df['Party'].mode()"
   ]
  },
  {
   "cell_type": "markdown",
   "id": "175c5bb1",
   "metadata": {},
   "source": [
    "### Exercise 1: In how many elections did the Democratic party run a candidate? What was the first election in which the Democratic party ran a candidate?"
   ]
  },
  {
   "cell_type": "code",
   "execution_count": 57,
   "id": "8d12e065",
   "metadata": {},
   "outputs": [],
   "source": [
    "#Try to answer the exercise here"
   ]
  },
  {
   "cell_type": "markdown",
   "id": "65cf9b28",
   "metadata": {},
   "source": [
    "### What years does the data cover? Are any years missing?\n",
    "\n",
    "(You can actually infer this from the min and max of the describe() method)"
   ]
  },
  {
   "cell_type": "code",
   "execution_count": 58,
   "id": "28d432be",
   "metadata": {},
   "outputs": [
    {
     "name": "stdout",
     "output_type": "stream",
     "text": [
      "Range of Years:  1824  -  2024\n"
     ]
    }
   ],
   "source": [
    "print(\"Range of Years: \", elections_df['Year'].min(), \" - \", elections_df['Year'].max())"
   ]
  },
  {
   "cell_type": "code",
   "execution_count": 59,
   "id": "cdd09c65",
   "metadata": {},
   "outputs": [
    {
     "name": "stdout",
     "output_type": "stream",
     "text": [
      "range(1824, 2025, 4)\n",
      "set()\n"
     ]
    }
   ],
   "source": [
    "years_in_range = range(elections_df['Year'].min(), elections_df['Year'].max()+1, 4) #An election is held every 4 years. Need the +1 because range(start, stop, step) excludes the stop \n",
    "print(years_in_range)\n",
    "\n",
    "years_in_dataset = elections_df['Year']\n",
    "missing_years = set(list(years_in_range)) - set(years_in_dataset) #Note that we're using the Python set datatype, which is like an unordered list and does not allow duplicates\n",
    "print(missing_years) #There are no missing years, so it returns an empty set as set()"
   ]
  },
  {
   "cell_type": "markdown",
   "id": "b12daf6c",
   "metadata": {},
   "source": [
    "# 4. Ask Questions About the Data"
   ]
  },
  {
   "cell_type": "markdown",
   "id": "db8ed112",
   "metadata": {},
   "source": [
    "### 4.1) Does the winner of the popular vote always win the election? Are these two columns redundant? Otherwise, when does the popular vote winner not win the election?"
   ]
  },
  {
   "cell_type": "markdown",
   "id": "296ff26c",
   "metadata": {},
   "source": [
    "For each year, we need to determine the winner of the popular vote by which candidate had the largest popular vote, and then check if their result for that year is 'win' or 'loss'"
   ]
  },
  {
   "cell_type": "code",
   "execution_count": 60,
   "id": "1db8bb70",
   "metadata": {},
   "outputs": [
    {
     "data": {
      "text/html": [
       "<div>\n",
       "<style scoped>\n",
       "    .dataframe tbody tr th:only-of-type {\n",
       "        vertical-align: middle;\n",
       "    }\n",
       "\n",
       "    .dataframe tbody tr th {\n",
       "        vertical-align: top;\n",
       "    }\n",
       "\n",
       "    .dataframe thead th {\n",
       "        text-align: right;\n",
       "    }\n",
       "</style>\n",
       "<table border=\"1\" class=\"dataframe\">\n",
       "  <thead>\n",
       "    <tr style=\"text-align: right;\">\n",
       "      <th></th>\n",
       "      <th>Year</th>\n",
       "      <th>Candidate</th>\n",
       "      <th>Party</th>\n",
       "      <th>Popular vote</th>\n",
       "      <th>Result</th>\n",
       "      <th>%</th>\n",
       "    </tr>\n",
       "  </thead>\n",
       "  <tbody>\n",
       "    <tr>\n",
       "      <th>0</th>\n",
       "      <td>1824</td>\n",
       "      <td>Andrew Jackson</td>\n",
       "      <td>Democratic-Republican</td>\n",
       "      <td>151271</td>\n",
       "      <td>loss</td>\n",
       "      <td>57.210122</td>\n",
       "    </tr>\n",
       "    <tr>\n",
       "      <th>34</th>\n",
       "      <td>1876</td>\n",
       "      <td>Samuel J. Tilden</td>\n",
       "      <td>Democratic</td>\n",
       "      <td>4288546</td>\n",
       "      <td>loss</td>\n",
       "      <td>51.528376</td>\n",
       "    </tr>\n",
       "    <tr>\n",
       "      <th>45</th>\n",
       "      <td>1888</td>\n",
       "      <td>Grover Cleveland</td>\n",
       "      <td>Democratic</td>\n",
       "      <td>5534488</td>\n",
       "      <td>loss</td>\n",
       "      <td>48.656799</td>\n",
       "    </tr>\n",
       "    <tr>\n",
       "      <th>151</th>\n",
       "      <td>2000</td>\n",
       "      <td>Al Gore</td>\n",
       "      <td>Democratic</td>\n",
       "      <td>50999897</td>\n",
       "      <td>loss</td>\n",
       "      <td>48.491813</td>\n",
       "    </tr>\n",
       "    <tr>\n",
       "      <th>176</th>\n",
       "      <td>2016</td>\n",
       "      <td>Hillary Clinton</td>\n",
       "      <td>Democratic</td>\n",
       "      <td>65853514</td>\n",
       "      <td>loss</td>\n",
       "      <td>48.521539</td>\n",
       "    </tr>\n",
       "  </tbody>\n",
       "</table>\n",
       "</div>"
      ],
      "text/plain": [
       "     Year         Candidate                  Party  Popular vote Result  \\\n",
       "0    1824    Andrew Jackson  Democratic-Republican        151271   loss   \n",
       "34   1876  Samuel J. Tilden             Democratic       4288546   loss   \n",
       "45   1888  Grover Cleveland             Democratic       5534488   loss   \n",
       "151  2000           Al Gore             Democratic      50999897   loss   \n",
       "176  2016   Hillary Clinton             Democratic      65853514   loss   \n",
       "\n",
       "             %  \n",
       "0    57.210122  \n",
       "34   51.528376  \n",
       "45   48.656799  \n",
       "151  48.491813  \n",
       "176  48.521539  "
      ]
     },
     "execution_count": 60,
     "metadata": {},
     "output_type": "execute_result"
    }
   ],
   "source": [
    "# Group the rows by Year, then in each group find the index (row number) of the candidate who had the largest popular vote\n",
    "idx = elections_df.groupby('Year')['Popular vote'].idxmax()\n",
    "\n",
    "# Now select the rows from the original dataframe corresponding to those indices\n",
    "popular_winners = elections_df.iloc[idx] #using iloc to get rows based on their numeric index positions\n",
    "\n",
    "#Get the years in which the popular winner lost the election\n",
    "popular_winners[popular_winners['Result'] == 'loss'] #using boolean indexing"
   ]
  },
  {
   "cell_type": "markdown",
   "id": "50d6aad4",
   "metadata": {},
   "source": [
    "Sanity check: Are there any results in the Result column other than win and loss? Is there 'tie' or a typo or something else?"
   ]
  },
  {
   "cell_type": "code",
   "execution_count": 61,
   "id": "6e480e32",
   "metadata": {},
   "outputs": [
    {
     "data": {
      "text/plain": [
       "array(['loss', 'win'], dtype=object)"
      ]
     },
     "execution_count": 61,
     "metadata": {},
     "output_type": "execute_result"
    }
   ],
   "source": [
    "elections_df['Result'].unique() #Nope! Just win and loss"
   ]
  },
  {
   "cell_type": "markdown",
   "id": "2bbfe405",
   "metadata": {},
   "source": [
    "### 4.2) Has any candidate run three or more times? What about 4 or more? Which candidate ran the most times?"
   ]
  },
  {
   "cell_type": "code",
   "execution_count": 62,
   "id": "eb6db52a",
   "metadata": {},
   "outputs": [
    {
     "data": {
      "text/plain": [
       "Candidate\n",
       "Norman Thomas         5\n",
       "Franklin Roosevelt    4\n",
       "Eugene V. Debs        4\n",
       "Ralph Nader           4\n",
       "Andrew Jackson        3\n",
       "                     ..\n",
       "Silas C. Swallow      1\n",
       "Alton B. Parker       1\n",
       "John G. Woolley       1\n",
       "Joshua Levering       1\n",
       "Chase Oliver          1\n",
       "Name: count, Length: 135, dtype: int64"
      ]
     },
     "execution_count": 62,
     "metadata": {},
     "output_type": "execute_result"
    }
   ],
   "source": [
    "elections_df['Candidate'].value_counts() #value_counts() sorts the values by default so maximum is at the top"
   ]
  },
  {
   "cell_type": "markdown",
   "id": "a54e1f48",
   "metadata": {},
   "source": [
    "### 4.3) Who were all the winning candidates (with the data from the years they won)?"
   ]
  },
  {
   "cell_type": "code",
   "execution_count": 63,
   "id": "73d7f519",
   "metadata": {},
   "outputs": [],
   "source": [
    "winners = elections_df[elections_df['Result'] == 'win']"
   ]
  },
  {
   "cell_type": "markdown",
   "id": "053e3141",
   "metadata": {},
   "source": [
    "### 4.4) Which candidate has won the most elections?"
   ]
  },
  {
   "cell_type": "code",
   "execution_count": 64,
   "id": "54b66267",
   "metadata": {},
   "outputs": [
    {
     "data": {
      "text/plain": [
       "Candidate\n",
       "Franklin Roosevelt    4\n",
       "Abraham Lincoln       2\n",
       "Andrew Jackson        2\n",
       "Dwight Eisenhower     2\n",
       "William McKinley      2\n",
       "Name: count, dtype: int64"
      ]
     },
     "execution_count": 64,
     "metadata": {},
     "output_type": "execute_result"
    }
   ],
   "source": [
    "win_counts = winners['Candidate'].value_counts() #value_counts() sorts the values by default so maximum is at the top\n",
    "win_counts.head()"
   ]
  },
  {
   "cell_type": "markdown",
   "id": "5d916a03",
   "metadata": {},
   "source": [
    "# 5. Visualize the Data"
   ]
  },
  {
   "cell_type": "markdown",
   "id": "883c2166",
   "metadata": {},
   "source": [
    "### What fraction of the vote did the winner receive in each year?"
   ]
  },
  {
   "cell_type": "code",
   "execution_count": null,
   "id": "b2befd99",
   "metadata": {},
   "outputs": [
    {
     "data": {
      "text/plain": [
       "[<matplotlib.lines.Line2D at 0x11d460af0>]"
      ]
     },
     "execution_count": 74,
     "metadata": {},
     "output_type": "execute_result"
    },
    {
     "data": {
      "image/png": "[encoded data removed]",
      "text/plain": [
       "<Figure size 640x480 with 1 Axes>"
      ]
     },
     "metadata": {},
     "output_type": "display_data"
    }
   ],
   "source": [
    "plt.plot(winners['Year'], winners['%']) #plot(x_values, y_values) will give you a line plot"
   ]
  },
  {
   "cell_type": "code",
   "execution_count": null,
   "id": "81fa4f14",
   "metadata": {},
   "outputs": [
    {
     "data": {
      "text/plain": [
       "<matplotlib.collections.PathCollection at 0x11d4b01c0>"
      ]
     },
     "execution_count": 75,
     "metadata": {},
     "output_type": "execute_result"
    },
    {
     "data": {
      "image/png": "[encoded data removed]",
      "text/plain": [
       "<Figure size 640x480 with 1 Axes>"
      ]
     },
     "metadata": {},
     "output_type": "display_data"
    }
   ],
   "source": [
    "plt.scatter(winners['Year'], winners['%']) #A scatter plot without the interpolation between successive years"
   ]
  },
  {
   "cell_type": "markdown",
   "id": "d84b3250",
   "metadata": {},
   "source": [
    "Note: There does not appear to be any observed trend over time and no extreme outliers."
   ]
  },
  {
   "cell_type": "markdown",
   "id": "f487f5ca",
   "metadata": {},
   "source": [
    "### Let's look at a histogram of the voter percentages of the winners"
   ]
  },
  {
   "cell_type": "code",
   "execution_count": 81,
   "id": "c9f6a3ed",
   "metadata": {},
   "outputs": [
    {
     "data": {
      "image/png": "[encoded data removed]",
      "text/plain": [
       "<Figure size 640x480 with 1 Axes>"
      ]
     },
     "metadata": {},
     "output_type": "display_data"
    }
   ],
   "source": [
    "plt.hist(winners['%'], bins=10)\n",
    "plt.xlabel('Winner\\'s Percentage of the Vote ') #use backslash to escape the apostrophe\n",
    "plt.ylabel('Count')\n",
    "plt.show()"
   ]
  },
  {
   "cell_type": "code",
   "execution_count": null,
   "id": "bc7879cc",
   "metadata": {},
   "outputs": [
    {
     "data": {
      "image/png": "[encoded data removed]",
      "text/plain": [
       "<Figure size 640x480 with 1 Axes>"
      ]
     },
     "metadata": {},
     "output_type": "display_data"
    }
   ],
   "source": [
    "plt.hist(winners['%'], bins=30) #More bins, more granular view\n",
    "plt.xlabel('Winner\\'s Percentage of the Vote ') #use backslash to escape the apostrophe\n",
    "plt.ylabel('Count')\n",
    "plt.show()"
   ]
  },
  {
   "cell_type": "markdown",
   "id": "28d7cb06",
   "metadata": {},
   "source": []
  }
 ],
 "metadata": {
  "kernelspec": {
   "display_name": "venv (3.9.6)",
   "language": "python",
   "name": "python3"
  },
  "language_info": {
   "codemirror_mode": {
    "name": "ipython",
    "version": 3
   },
   "file_extension": ".py",
   "mimetype": "text/x-python",
   "name": "python",
   "nbconvert_exporter": "python",
   "pygments_lexer": "ipython3",
   "version": "3.9.6"
  }
 },
 "nbformat": 4,
 "nbformat_minor": 5
}
